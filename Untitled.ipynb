{
 "cells": [
  {
   "cell_type": "code",
   "execution_count": 1,
   "metadata": {},
   "outputs": [],
   "source": [
    "import numpy as np\n",
    "import pandas as pd"
   ]
  },
  {
   "cell_type": "code",
   "execution_count": 2,
   "metadata": {},
   "outputs": [],
   "source": [
    "df = pd.read_csv(\"C:/Users/Dylan/Desktop/Projects/m1-13-project1/bank_data.csv\")"
   ]
  },
  {
   "cell_type": "code",
   "execution_count": null,
   "metadata": {},
   "outputs": [],
   "source": [
    "def theft_list(df):\n",
    "    time_left = 24\n",
    "    total_money = 0\n",
    "    current_x = 0\n",
    "    current_y = 0 \n",
    "    all_ids = []\n",
    "    def total_time(x1,y1, x2, y2, time):\n",
    "        distance = np.sqrt((x2 - x1)**2 + (y2 - y1)**2 )\n",
    "        move_time = (distance/30)\n",
    "        total_time = move_time + time\n",
    "        return total_time\n",
    "    def money_rate(money, total_time):\n",
    "        money_rate = money/total_time\n",
    "        return money_rate\n",
    "    while time_left != 0 :\n",
    "        df[\"total_time\"] = total_time(current_x, current_y, df[\"x_coordinate\"], df[\"y_coordinate\"], df[\"time (hr)\"])\n",
    "        df[\"money_rate\"] = money_rate(df[\"money\"], df[\"total_time\"])\n",
    "        df = df[df[\"total_time\"] <= time_left]\n",
    "        ver = len(df.index)\n",
    "    \n",
    "        if ver > 0 :\n",
    "            df1 = df.loc[df['money_rate'].idxmax()]\n",
    "            current_x = df1.loc['x_coordinate']\n",
    "            current_y = df1.loc['y_coordinate']\n",
    "            total_money += df1.loc['money']\n",
    "            time_left -= df1.loc['total_time']\n",
    "            Id = int(df1.loc['id'])\n",
    "            all_ids.append(Id)\n",
    "            df = df.drop(Id)\n",
    "        \n",
    "        else :\n",
    "            break \n",
    "\n",
    "    all_ids.reverse()\n",
    "    return all_ids"
   ]
  },
  {
   "cell_type": "code",
   "execution_count": null,
   "metadata": {},
   "outputs": [],
   "source": [
    "theft_list(df)"
   ]
  }
 ],
 "metadata": {
  "kernelspec": {
   "display_name": "Python 3",
   "language": "python",
   "name": "python3"
  },
  "language_info": {
   "codemirror_mode": {
    "name": "ipython",
    "version": 3
   },
   "file_extension": ".py",
   "mimetype": "text/x-python",
   "name": "python",
   "nbconvert_exporter": "python",
   "pygments_lexer": "ipython3",
   "version": "3.8.3"
  }
 },
 "nbformat": 4,
 "nbformat_minor": 4
}
